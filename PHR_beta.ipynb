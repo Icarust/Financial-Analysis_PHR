{
 "cells": [
  {
   "cell_type": "code",
   "execution_count": 12,
   "id": "0cbf4285",
   "metadata": {},
   "outputs": [
    {
     "name": "stdout",
     "output_type": "stream",
     "text": [
      "The autoreload extension is already loaded. To reload it, use:\n",
      "  %reload_ext autoreload\n"
     ]
    }
   ],
   "source": [
    "import numpy as np\n",
    "import pandas as pd\n",
    "from scipy import stats\n",
    "import statsmodels.api as sm\n",
    "import seaborn as sns\n",
    "import matplotlib.pyplot as plt\n",
    "import Input_Inv as Input\n",
    "\n",
    "%load_ext autoreload\n",
    "%autoreload 2"
   ]
  },
  {
   "cell_type": "code",
   "execution_count": 13,
   "id": "8bb150b8",
   "metadata": {},
   "outputs": [],
   "source": [
    "tickers = ['PHR.csv','VNIndex.csv']\n",
    "port = pd.DataFrame()\n",
    "for t in tickers:\n",
    "    port[t] = Input.read_data(t)['Close']"
   ]
  },
  {
   "cell_type": "code",
   "execution_count": 14,
   "id": "53c4392c",
   "metadata": {},
   "outputs": [
    {
     "data": {
      "text/html": [
       "<div>\n",
       "<style scoped>\n",
       "    .dataframe tbody tr th:only-of-type {\n",
       "        vertical-align: middle;\n",
       "    }\n",
       "\n",
       "    .dataframe tbody tr th {\n",
       "        vertical-align: top;\n",
       "    }\n",
       "\n",
       "    .dataframe thead th {\n",
       "        text-align: right;\n",
       "    }\n",
       "</style>\n",
       "<table border=\"1\" class=\"dataframe\">\n",
       "  <thead>\n",
       "    <tr style=\"text-align: right;\">\n",
       "      <th></th>\n",
       "      <th>PHR.csv</th>\n",
       "      <th>VNIndex.csv</th>\n",
       "    </tr>\n",
       "    <tr>\n",
       "      <th>Date</th>\n",
       "      <th></th>\n",
       "      <th></th>\n",
       "    </tr>\n",
       "  </thead>\n",
       "  <tbody>\n",
       "    <tr>\n",
       "      <th>2019-10-10</th>\n",
       "      <td>62600.0</td>\n",
       "      <td>987.38</td>\n",
       "    </tr>\n",
       "    <tr>\n",
       "      <th>2019-10-11</th>\n",
       "      <td>62500.0</td>\n",
       "      <td>991.84</td>\n",
       "    </tr>\n",
       "    <tr>\n",
       "      <th>2019-10-14</th>\n",
       "      <td>60700.0</td>\n",
       "      <td>993.57</td>\n",
       "    </tr>\n",
       "    <tr>\n",
       "      <th>2019-10-15</th>\n",
       "      <td>60000.0</td>\n",
       "      <td>993.05</td>\n",
       "    </tr>\n",
       "    <tr>\n",
       "      <th>2019-10-16</th>\n",
       "      <td>59300.0</td>\n",
       "      <td>994.46</td>\n",
       "    </tr>\n",
       "    <tr>\n",
       "      <th>...</th>\n",
       "      <td>...</td>\n",
       "      <td>...</td>\n",
       "    </tr>\n",
       "    <tr>\n",
       "      <th>2022-10-04</th>\n",
       "      <td>51500.0</td>\n",
       "      <td>1078.14</td>\n",
       "    </tr>\n",
       "    <tr>\n",
       "      <th>2022-10-05</th>\n",
       "      <td>52500.0</td>\n",
       "      <td>1104.26</td>\n",
       "    </tr>\n",
       "    <tr>\n",
       "      <th>2022-10-06</th>\n",
       "      <td>49900.0</td>\n",
       "      <td>1074.52</td>\n",
       "    </tr>\n",
       "    <tr>\n",
       "      <th>2022-10-07</th>\n",
       "      <td>46450.0</td>\n",
       "      <td>1035.91</td>\n",
       "    </tr>\n",
       "    <tr>\n",
       "      <th>2022-10-10</th>\n",
       "      <td>47600.0</td>\n",
       "      <td>1042.48</td>\n",
       "    </tr>\n",
       "  </tbody>\n",
       "</table>\n",
       "<p>751 rows × 2 columns</p>\n",
       "</div>"
      ],
      "text/plain": [
       "            PHR.csv  VNIndex.csv\n",
       "Date                            \n",
       "2019-10-10  62600.0       987.38\n",
       "2019-10-11  62500.0       991.84\n",
       "2019-10-14  60700.0       993.57\n",
       "2019-10-15  60000.0       993.05\n",
       "2019-10-16  59300.0       994.46\n",
       "...             ...          ...\n",
       "2022-10-04  51500.0      1078.14\n",
       "2022-10-05  52500.0      1104.26\n",
       "2022-10-06  49900.0      1074.52\n",
       "2022-10-07  46450.0      1035.91\n",
       "2022-10-10  47600.0      1042.48\n",
       "\n",
       "[751 rows x 2 columns]"
      ]
     },
     "execution_count": 14,
     "metadata": {},
     "output_type": "execute_result"
    }
   ],
   "source": [
    "port"
   ]
  },
  {
   "cell_type": "markdown",
   "id": "db7a32a8",
   "metadata": {},
   "source": [
    "## Chuẩn hóa Variables"
   ]
  },
  {
   "cell_type": "code",
   "execution_count": 15,
   "id": "dda9fccc",
   "metadata": {},
   "outputs": [
    {
     "data": {
      "text/html": [
       "<div>\n",
       "<style scoped>\n",
       "    .dataframe tbody tr th:only-of-type {\n",
       "        vertical-align: middle;\n",
       "    }\n",
       "\n",
       "    .dataframe tbody tr th {\n",
       "        vertical-align: top;\n",
       "    }\n",
       "\n",
       "    .dataframe thead th {\n",
       "        text-align: right;\n",
       "    }\n",
       "</style>\n",
       "<table border=\"1\" class=\"dataframe\">\n",
       "  <thead>\n",
       "    <tr style=\"text-align: right;\">\n",
       "      <th></th>\n",
       "      <th>PHR</th>\n",
       "      <th>VNIndex</th>\n",
       "    </tr>\n",
       "    <tr>\n",
       "      <th>Date</th>\n",
       "      <th></th>\n",
       "      <th></th>\n",
       "    </tr>\n",
       "  </thead>\n",
       "  <tbody>\n",
       "    <tr>\n",
       "      <th>2019-10-10</th>\n",
       "      <td>62600.0</td>\n",
       "      <td>987.38</td>\n",
       "    </tr>\n",
       "    <tr>\n",
       "      <th>2019-10-11</th>\n",
       "      <td>62500.0</td>\n",
       "      <td>991.84</td>\n",
       "    </tr>\n",
       "    <tr>\n",
       "      <th>2019-10-14</th>\n",
       "      <td>60700.0</td>\n",
       "      <td>993.57</td>\n",
       "    </tr>\n",
       "    <tr>\n",
       "      <th>2019-10-15</th>\n",
       "      <td>60000.0</td>\n",
       "      <td>993.05</td>\n",
       "    </tr>\n",
       "    <tr>\n",
       "      <th>2019-10-16</th>\n",
       "      <td>59300.0</td>\n",
       "      <td>994.46</td>\n",
       "    </tr>\n",
       "    <tr>\n",
       "      <th>...</th>\n",
       "      <td>...</td>\n",
       "      <td>...</td>\n",
       "    </tr>\n",
       "    <tr>\n",
       "      <th>2022-10-04</th>\n",
       "      <td>51500.0</td>\n",
       "      <td>1078.14</td>\n",
       "    </tr>\n",
       "    <tr>\n",
       "      <th>2022-10-05</th>\n",
       "      <td>52500.0</td>\n",
       "      <td>1104.26</td>\n",
       "    </tr>\n",
       "    <tr>\n",
       "      <th>2022-10-06</th>\n",
       "      <td>49900.0</td>\n",
       "      <td>1074.52</td>\n",
       "    </tr>\n",
       "    <tr>\n",
       "      <th>2022-10-07</th>\n",
       "      <td>46450.0</td>\n",
       "      <td>1035.91</td>\n",
       "    </tr>\n",
       "    <tr>\n",
       "      <th>2022-10-10</th>\n",
       "      <td>47600.0</td>\n",
       "      <td>1042.48</td>\n",
       "    </tr>\n",
       "  </tbody>\n",
       "</table>\n",
       "<p>751 rows × 2 columns</p>\n",
       "</div>"
      ],
      "text/plain": [
       "                PHR  VNIndex\n",
       "Date                        \n",
       "2019-10-10  62600.0   987.38\n",
       "2019-10-11  62500.0   991.84\n",
       "2019-10-14  60700.0   993.57\n",
       "2019-10-15  60000.0   993.05\n",
       "2019-10-16  59300.0   994.46\n",
       "...             ...      ...\n",
       "2022-10-04  51500.0  1078.14\n",
       "2022-10-05  52500.0  1104.26\n",
       "2022-10-06  49900.0  1074.52\n",
       "2022-10-07  46450.0  1035.91\n",
       "2022-10-10  47600.0  1042.48\n",
       "\n",
       "[751 rows x 2 columns]"
      ]
     },
     "execution_count": 15,
     "metadata": {},
     "output_type": "execute_result"
    }
   ],
   "source": [
    "port.columns = ['PHR','VNIndex']\n",
    "port"
   ]
  },
  {
   "cell_type": "code",
   "execution_count": 16,
   "id": "d9fd5650",
   "metadata": {},
   "outputs": [
    {
     "data": {
      "text/html": [
       "<div>\n",
       "<style scoped>\n",
       "    .dataframe tbody tr th:only-of-type {\n",
       "        vertical-align: middle;\n",
       "    }\n",
       "\n",
       "    .dataframe tbody tr th {\n",
       "        vertical-align: top;\n",
       "    }\n",
       "\n",
       "    .dataframe thead th {\n",
       "        text-align: right;\n",
       "    }\n",
       "</style>\n",
       "<table border=\"1\" class=\"dataframe\">\n",
       "  <thead>\n",
       "    <tr style=\"text-align: right;\">\n",
       "      <th></th>\n",
       "      <th>PHR</th>\n",
       "      <th>VNIndex</th>\n",
       "    </tr>\n",
       "    <tr>\n",
       "      <th>Date</th>\n",
       "      <th></th>\n",
       "      <th></th>\n",
       "    </tr>\n",
       "  </thead>\n",
       "  <tbody>\n",
       "    <tr>\n",
       "      <th>2019-10-11</th>\n",
       "      <td>-0.001599</td>\n",
       "      <td>0.004507</td>\n",
       "    </tr>\n",
       "    <tr>\n",
       "      <th>2019-10-14</th>\n",
       "      <td>-0.029223</td>\n",
       "      <td>0.001743</td>\n",
       "    </tr>\n",
       "    <tr>\n",
       "      <th>2019-10-15</th>\n",
       "      <td>-0.011599</td>\n",
       "      <td>-0.000524</td>\n",
       "    </tr>\n",
       "    <tr>\n",
       "      <th>2019-10-16</th>\n",
       "      <td>-0.011735</td>\n",
       "      <td>0.001419</td>\n",
       "    </tr>\n",
       "    <tr>\n",
       "      <th>2019-10-17</th>\n",
       "      <td>0.026624</td>\n",
       "      <td>-0.004677</td>\n",
       "    </tr>\n",
       "    <tr>\n",
       "      <th>...</th>\n",
       "      <td>...</td>\n",
       "      <td>...</td>\n",
       "    </tr>\n",
       "    <tr>\n",
       "      <th>2022-10-04</th>\n",
       "      <td>0.003891</td>\n",
       "      <td>-0.007669</td>\n",
       "    </tr>\n",
       "    <tr>\n",
       "      <th>2022-10-05</th>\n",
       "      <td>0.019231</td>\n",
       "      <td>0.023938</td>\n",
       "    </tr>\n",
       "    <tr>\n",
       "      <th>2022-10-06</th>\n",
       "      <td>-0.050792</td>\n",
       "      <td>-0.027301</td>\n",
       "    </tr>\n",
       "    <tr>\n",
       "      <th>2022-10-07</th>\n",
       "      <td>-0.071645</td>\n",
       "      <td>-0.036594</td>\n",
       "    </tr>\n",
       "    <tr>\n",
       "      <th>2022-10-10</th>\n",
       "      <td>0.024456</td>\n",
       "      <td>0.006322</td>\n",
       "    </tr>\n",
       "  </tbody>\n",
       "</table>\n",
       "<p>750 rows × 2 columns</p>\n",
       "</div>"
      ],
      "text/plain": [
       "                 PHR   VNIndex\n",
       "Date                          \n",
       "2019-10-11 -0.001599  0.004507\n",
       "2019-10-14 -0.029223  0.001743\n",
       "2019-10-15 -0.011599 -0.000524\n",
       "2019-10-16 -0.011735  0.001419\n",
       "2019-10-17  0.026624 -0.004677\n",
       "...              ...       ...\n",
       "2022-10-04  0.003891 -0.007669\n",
       "2022-10-05  0.019231  0.023938\n",
       "2022-10-06 -0.050792 -0.027301\n",
       "2022-10-07 -0.071645 -0.036594\n",
       "2022-10-10  0.024456  0.006322\n",
       "\n",
       "[750 rows x 2 columns]"
      ]
     },
     "execution_count": 16,
     "metadata": {},
     "output_type": "execute_result"
    }
   ],
   "source": [
    "port_return = np.log(port/port.shift(1))\n",
    "port_return.dropna(inplace=True)\n",
    "port_return"
   ]
  },
  {
   "cell_type": "code",
   "execution_count": 17,
   "id": "0d340502",
   "metadata": {},
   "outputs": [
    {
     "data": {
      "text/html": [
       "<div>\n",
       "<style scoped>\n",
       "    .dataframe tbody tr th:only-of-type {\n",
       "        vertical-align: middle;\n",
       "    }\n",
       "\n",
       "    .dataframe tbody tr th {\n",
       "        vertical-align: top;\n",
       "    }\n",
       "\n",
       "    .dataframe thead th {\n",
       "        text-align: right;\n",
       "    }\n",
       "</style>\n",
       "<table border=\"1\" class=\"dataframe\">\n",
       "  <thead>\n",
       "    <tr style=\"text-align: right;\">\n",
       "      <th></th>\n",
       "      <th>PHR</th>\n",
       "      <th>VNIndex</th>\n",
       "    </tr>\n",
       "  </thead>\n",
       "  <tbody>\n",
       "    <tr>\n",
       "      <th>PHR</th>\n",
       "      <td>0.000722</td>\n",
       "      <td>0.000219</td>\n",
       "    </tr>\n",
       "    <tr>\n",
       "      <th>VNIndex</th>\n",
       "      <td>0.000219</td>\n",
       "      <td>0.000186</td>\n",
       "    </tr>\n",
       "  </tbody>\n",
       "</table>\n",
       "</div>"
      ],
      "text/plain": [
       "              PHR   VNIndex\n",
       "PHR      0.000722  0.000219\n",
       "VNIndex  0.000219  0.000186"
      ]
     },
     "execution_count": 17,
     "metadata": {},
     "output_type": "execute_result"
    }
   ],
   "source": [
    "port_Cov = port_return.cov()\n",
    "port_Cov"
   ]
  },
  {
   "cell_type": "code",
   "execution_count": 18,
   "id": "137ddf03",
   "metadata": {},
   "outputs": [
    {
     "data": {
      "text/html": [
       "<div>\n",
       "<style scoped>\n",
       "    .dataframe tbody tr th:only-of-type {\n",
       "        vertical-align: middle;\n",
       "    }\n",
       "\n",
       "    .dataframe tbody tr th {\n",
       "        vertical-align: top;\n",
       "    }\n",
       "\n",
       "    .dataframe thead th {\n",
       "        text-align: right;\n",
       "    }\n",
       "</style>\n",
       "<table border=\"1\" class=\"dataframe\">\n",
       "  <thead>\n",
       "    <tr style=\"text-align: right;\">\n",
       "      <th></th>\n",
       "      <th>PHR</th>\n",
       "      <th>VNIndex</th>\n",
       "    </tr>\n",
       "  </thead>\n",
       "  <tbody>\n",
       "    <tr>\n",
       "      <th>PHR</th>\n",
       "      <td>1.000000</td>\n",
       "      <td>0.596669</td>\n",
       "    </tr>\n",
       "    <tr>\n",
       "      <th>VNIndex</th>\n",
       "      <td>0.596669</td>\n",
       "      <td>1.000000</td>\n",
       "    </tr>\n",
       "  </tbody>\n",
       "</table>\n",
       "</div>"
      ],
      "text/plain": [
       "              PHR   VNIndex\n",
       "PHR      1.000000  0.596669\n",
       "VNIndex  0.596669  1.000000"
      ]
     },
     "execution_count": 18,
     "metadata": {},
     "output_type": "execute_result"
    }
   ],
   "source": [
    "port_Corr = port_return.corr()\n",
    "port_Corr"
   ]
  },
  {
   "cell_type": "code",
   "execution_count": 19,
   "id": "08cb1bdc",
   "metadata": {},
   "outputs": [
    {
     "data": {
      "text/plain": [
       "array([[ True,  True],\n",
       "       [ True,  True]])"
      ]
     },
     "execution_count": 19,
     "metadata": {},
     "output_type": "execute_result"
    }
   ],
   "source": [
    "ones_Corr = np.ones_like(port_Corr,dtype=bool)\n",
    "ones_Corr"
   ]
  },
  {
   "cell_type": "code",
   "execution_count": 20,
   "id": "bd499fe3",
   "metadata": {},
   "outputs": [
    {
     "data": {
      "text/plain": [
       "array([[ True,  True],\n",
       "       [False,  True]])"
      ]
     },
     "execution_count": 20,
     "metadata": {},
     "output_type": "execute_result"
    }
   ],
   "source": [
    "mask = np.triu(ones_Corr)\n",
    "mask"
   ]
  },
  {
   "cell_type": "code",
   "execution_count": 21,
   "id": "46130be0",
   "metadata": {},
   "outputs": [
    {
     "data": {
      "text/plain": [
       "array([[False]])"
      ]
     },
     "execution_count": 21,
     "metadata": {},
     "output_type": "execute_result"
    }
   ],
   "source": [
    "adjust_mask = mask[1:, :-1]\n",
    "adjust_mask"
   ]
  },
  {
   "cell_type": "code",
   "execution_count": 22,
   "id": "12b96cc3",
   "metadata": {},
   "outputs": [],
   "source": [
    "adjust_port_Corr = port_Corr.iloc[1:, :-1]"
   ]
  },
  {
   "cell_type": "code",
   "execution_count": 23,
   "id": "be929e12",
   "metadata": {},
   "outputs": [
    {
     "data": {
      "text/plain": [
       "Text(0.5, 1.0, 'Tương quan giữa từng loại tài sản trong danh mục\\n')"
      ]
     },
     "execution_count": 23,
     "metadata": {},
     "output_type": "execute_result"
    },
    {
     "data": {
      "image/png": "[encoded data removed]",
      "text/plain": [
       "<Figure size 720x576 with 2 Axes>"
      ]
     },
     "metadata": {
      "needs_background": "light"
     },
     "output_type": "display_data"
    }
   ],
   "source": [
    "fig, ax = plt.subplots(figsize=(10,8))\n",
    "\n",
    "cmap = sns.diverging_palette(0, 230, 90, 60, as_cmap=True)\n",
    "\n",
    "sns.heatmap(data=adjust_port_Corr, mask=adjust_mask, annot=True, cmap=cmap,linecolor='White',linewidths=0.1)\n",
    "\n",
    "title = 'Tương quan giữa từng loại tài sản trong danh mục\\n'\n",
    "ax.set_title(title, loc='center',fontsize=20)"
   ]
  },
  {
   "cell_type": "code",
   "execution_count": 24,
   "id": "7979617e",
   "metadata": {},
   "outputs": [],
   "source": [
    "Cov_PHR_VNIndex = port_Cov.iloc[0,1]"
   ]
  },
  {
   "cell_type": "code",
   "execution_count": 25,
   "id": "fadf42cc",
   "metadata": {},
   "outputs": [
    {
     "data": {
      "text/plain": [
       "0.00021854524770852484"
      ]
     },
     "execution_count": 25,
     "metadata": {},
     "output_type": "execute_result"
    }
   ],
   "source": [
    "Cov_PHR_VNIndex"
   ]
  },
  {
   "cell_type": "code",
   "execution_count": 26,
   "id": "144df18b",
   "metadata": {},
   "outputs": [],
   "source": [
    "VNIndex_Var = port_return['VNIndex'].var()"
   ]
  },
  {
   "cell_type": "code",
   "execution_count": 27,
   "id": "ac807c04",
   "metadata": {},
   "outputs": [
    {
     "data": {
      "text/plain": [
       "0.0001857963149759518"
      ]
     },
     "execution_count": 27,
     "metadata": {},
     "output_type": "execute_result"
    }
   ],
   "source": [
    "VNIndex_Var"
   ]
  },
  {
   "cell_type": "markdown",
   "id": "63ad227b",
   "metadata": {},
   "source": [
    "## Tính Beta"
   ]
  },
  {
   "cell_type": "code",
   "execution_count": 28,
   "id": "d27f7dc7",
   "metadata": {},
   "outputs": [],
   "source": [
    "PHR_Beta = Cov_PHR_VNIndex/VNIndex_Var"
   ]
  },
  {
   "cell_type": "code",
   "execution_count": 29,
   "id": "1c205302",
   "metadata": {},
   "outputs": [
    {
     "data": {
      "text/plain": [
       "1.1762625525528418"
      ]
     },
     "execution_count": 29,
     "metadata": {},
     "output_type": "execute_result"
    }
   ],
   "source": [
    "PHR_Beta"
   ]
  },
  {
   "cell_type": "code",
   "execution_count": 31,
   "id": "877816e8",
   "metadata": {},
   "outputs": [],
   "source": [
    "y = port_return['PHR']\n",
    "x = port_return['VNIndex']"
   ]
  },
  {
   "cell_type": "code",
   "execution_count": 32,
   "id": "836c81c0",
   "metadata": {},
   "outputs": [
    {
     "data": {
      "text/plain": [
       "Text(0.5, 1.0, 'Thị giá PHR và chỉ số VNIndex')"
      ]
     },
     "execution_count": 32,
     "metadata": {},
     "output_type": "execute_result"
    },
    {
     "data": {
      "image/png": "[encoded data removed]",
      "text/plain": [
       "<Figure size 432x288 with 1 Axes>"
      ]
     },
     "metadata": {
      "needs_background": "light"
     },
     "output_type": "display_data"
    }
   ],
   "source": [
    "plt.scatter(x,y)\n",
    "plt.ylabel('PHR')\n",
    "plt.xlabel('VNIndex')\n",
    "plt.title(\"Thị giá PHR và chỉ số VNIndex\")"
   ]
  },
  {
   "cell_type": "code",
   "execution_count": 33,
   "id": "18255ac3",
   "metadata": {},
   "outputs": [
    {
     "data": {
      "text/html": [
       "<div>\n",
       "<style scoped>\n",
       "    .dataframe tbody tr th:only-of-type {\n",
       "        vertical-align: middle;\n",
       "    }\n",
       "\n",
       "    .dataframe tbody tr th {\n",
       "        vertical-align: top;\n",
       "    }\n",
       "\n",
       "    .dataframe thead th {\n",
       "        text-align: right;\n",
       "    }\n",
       "</style>\n",
       "<table border=\"1\" class=\"dataframe\">\n",
       "  <thead>\n",
       "    <tr style=\"text-align: right;\">\n",
       "      <th></th>\n",
       "      <th>const</th>\n",
       "      <th>VNIndex</th>\n",
       "    </tr>\n",
       "    <tr>\n",
       "      <th>Date</th>\n",
       "      <th></th>\n",
       "      <th></th>\n",
       "    </tr>\n",
       "  </thead>\n",
       "  <tbody>\n",
       "    <tr>\n",
       "      <th>2019-10-11</th>\n",
       "      <td>1.0</td>\n",
       "      <td>0.004507</td>\n",
       "    </tr>\n",
       "    <tr>\n",
       "      <th>2019-10-14</th>\n",
       "      <td>1.0</td>\n",
       "      <td>0.001743</td>\n",
       "    </tr>\n",
       "    <tr>\n",
       "      <th>2019-10-15</th>\n",
       "      <td>1.0</td>\n",
       "      <td>-0.000524</td>\n",
       "    </tr>\n",
       "    <tr>\n",
       "      <th>2019-10-16</th>\n",
       "      <td>1.0</td>\n",
       "      <td>0.001419</td>\n",
       "    </tr>\n",
       "    <tr>\n",
       "      <th>2019-10-17</th>\n",
       "      <td>1.0</td>\n",
       "      <td>-0.004677</td>\n",
       "    </tr>\n",
       "    <tr>\n",
       "      <th>...</th>\n",
       "      <td>...</td>\n",
       "      <td>...</td>\n",
       "    </tr>\n",
       "    <tr>\n",
       "      <th>2022-10-04</th>\n",
       "      <td>1.0</td>\n",
       "      <td>-0.007669</td>\n",
       "    </tr>\n",
       "    <tr>\n",
       "      <th>2022-10-05</th>\n",
       "      <td>1.0</td>\n",
       "      <td>0.023938</td>\n",
       "    </tr>\n",
       "    <tr>\n",
       "      <th>2022-10-06</th>\n",
       "      <td>1.0</td>\n",
       "      <td>-0.027301</td>\n",
       "    </tr>\n",
       "    <tr>\n",
       "      <th>2022-10-07</th>\n",
       "      <td>1.0</td>\n",
       "      <td>-0.036594</td>\n",
       "    </tr>\n",
       "    <tr>\n",
       "      <th>2022-10-10</th>\n",
       "      <td>1.0</td>\n",
       "      <td>0.006322</td>\n",
       "    </tr>\n",
       "  </tbody>\n",
       "</table>\n",
       "<p>750 rows × 2 columns</p>\n",
       "</div>"
      ],
      "text/plain": [
       "            const   VNIndex\n",
       "Date                       \n",
       "2019-10-11    1.0  0.004507\n",
       "2019-10-14    1.0  0.001743\n",
       "2019-10-15    1.0 -0.000524\n",
       "2019-10-16    1.0  0.001419\n",
       "2019-10-17    1.0 -0.004677\n",
       "...           ...       ...\n",
       "2022-10-04    1.0 -0.007669\n",
       "2022-10-05    1.0  0.023938\n",
       "2022-10-06    1.0 -0.027301\n",
       "2022-10-07    1.0 -0.036594\n",
       "2022-10-10    1.0  0.006322\n",
       "\n",
       "[750 rows x 2 columns]"
      ]
     },
     "execution_count": 33,
     "metadata": {},
     "output_type": "execute_result"
    }
   ],
   "source": [
    "x1 = sm.add_constant(x)\n",
    "x1"
   ]
  },
  {
   "cell_type": "markdown",
   "id": "bec97464",
   "metadata": {},
   "source": [
    "## Regression_Beta"
   ]
  },
  {
   "cell_type": "code",
   "execution_count": 34,
   "id": "e9478c90",
   "metadata": {},
   "outputs": [],
   "source": [
    "results_reg_PHR = sm.OLS(y,x1).fit()"
   ]
  },
  {
   "cell_type": "code",
   "execution_count": 35,
   "id": "56ab8d47",
   "metadata": {},
   "outputs": [
    {
     "data": {
      "text/html": [
       "<table class=\"simpletable\">\n",
       "<caption>OLS Regression Results</caption>\n",
       "<tr>\n",
       "  <th>Dep. Variable:</th>           <td>PHR</td>       <th>  R-squared:         </th> <td>   0.356</td>\n",
       "</tr>\n",
       "<tr>\n",
       "  <th>Model:</th>                   <td>OLS</td>       <th>  Adj. R-squared:    </th> <td>   0.355</td>\n",
       "</tr>\n",
       "<tr>\n",
       "  <th>Method:</th>             <td>Least Squares</td>  <th>  F-statistic:       </th> <td>   413.5</td>\n",
       "</tr>\n",
       "<tr>\n",
       "  <th>Date:</th>             <td>Thu, 10 Nov 2022</td> <th>  Prob (F-statistic):</th> <td>1.61e-73</td>\n",
       "</tr>\n",
       "<tr>\n",
       "  <th>Time:</th>                 <td>11:40:08</td>     <th>  Log-Likelihood:    </th> <td>  1813.8</td>\n",
       "</tr>\n",
       "<tr>\n",
       "  <th>No. Observations:</th>      <td>   750</td>      <th>  AIC:               </th> <td>  -3624.</td>\n",
       "</tr>\n",
       "<tr>\n",
       "  <th>Df Residuals:</th>          <td>   748</td>      <th>  BIC:               </th> <td>  -3614.</td>\n",
       "</tr>\n",
       "<tr>\n",
       "  <th>Df Model:</th>              <td>     1</td>      <th>                     </th>     <td> </td>   \n",
       "</tr>\n",
       "<tr>\n",
       "  <th>Covariance Type:</th>      <td>nonrobust</td>    <th>                     </th>     <td> </td>   \n",
       "</tr>\n",
       "</table>\n",
       "<table class=\"simpletable\">\n",
       "<tr>\n",
       "     <td></td>        <th>coef</th>     <th>std err</th>      <th>t</th>      <th>P>|t|</th>  <th>[0.025</th>    <th>0.975]</th>  \n",
       "</tr>\n",
       "<tr>\n",
       "  <th>const</th>   <td>   -0.0005</td> <td>    0.001</td> <td>   -0.572</td> <td> 0.568</td> <td>   -0.002</td> <td>    0.001</td>\n",
       "</tr>\n",
       "<tr>\n",
       "  <th>VNIndex</th> <td>    1.1763</td> <td>    0.058</td> <td>   20.335</td> <td> 0.000</td> <td>    1.063</td> <td>    1.290</td>\n",
       "</tr>\n",
       "</table>\n",
       "<table class=\"simpletable\">\n",
       "<tr>\n",
       "  <th>Omnibus:</th>       <td>46.101</td> <th>  Durbin-Watson:     </th> <td>   1.754</td>\n",
       "</tr>\n",
       "<tr>\n",
       "  <th>Prob(Omnibus):</th> <td> 0.000</td> <th>  Jarque-Bera (JB):  </th> <td> 177.542</td>\n",
       "</tr>\n",
       "<tr>\n",
       "  <th>Skew:</th>          <td>-0.003</td> <th>  Prob(JB):          </th> <td>2.80e-39</td>\n",
       "</tr>\n",
       "<tr>\n",
       "  <th>Kurtosis:</th>      <td> 5.384</td> <th>  Cond. No.          </th> <td>    73.4</td>\n",
       "</tr>\n",
       "</table><br/><br/>Notes:<br/>[1] Standard Errors assume that the covariance matrix of the errors is correctly specified."
      ],
      "text/plain": [
       "<class 'statsmodels.iolib.summary.Summary'>\n",
       "\"\"\"\n",
       "                            OLS Regression Results                            \n",
       "==============================================================================\n",
       "Dep. Variable:                    PHR   R-squared:                       0.356\n",
       "Model:                            OLS   Adj. R-squared:                  0.355\n",
       "Method:                 Least Squares   F-statistic:                     413.5\n",
       "Date:                Thu, 10 Nov 2022   Prob (F-statistic):           1.61e-73\n",
       "Time:                        11:40:08   Log-Likelihood:                 1813.8\n",
       "No. Observations:                 750   AIC:                            -3624.\n",
       "Df Residuals:                     748   BIC:                            -3614.\n",
       "Df Model:                           1                                         \n",
       "Covariance Type:            nonrobust                                         \n",
       "==============================================================================\n",
       "                 coef    std err          t      P>|t|      [0.025      0.975]\n",
       "------------------------------------------------------------------------------\n",
       "const         -0.0005      0.001     -0.572      0.568      -0.002       0.001\n",
       "VNIndex        1.1763      0.058     20.335      0.000       1.063       1.290\n",
       "==============================================================================\n",
       "Omnibus:                       46.101   Durbin-Watson:                   1.754\n",
       "Prob(Omnibus):                  0.000   Jarque-Bera (JB):              177.542\n",
       "Skew:                          -0.003   Prob(JB):                     2.80e-39\n",
       "Kurtosis:                       5.384   Cond. No.                         73.4\n",
       "==============================================================================\n",
       "\n",
       "Notes:\n",
       "[1] Standard Errors assume that the covariance matrix of the errors is correctly specified.\n",
       "\"\"\""
      ]
     },
     "execution_count": 35,
     "metadata": {},
     "output_type": "execute_result"
    }
   ],
   "source": [
    "results_reg_PHR.summary()"
   ]
  },
  {
   "cell_type": "code",
   "execution_count": null,
   "id": "3c71f397",
   "metadata": {},
   "outputs": [],
   "source": []
  }
 ],
 "metadata": {
  "kernelspec": {
   "display_name": "Python 3 (ipykernel)",
   "language": "python",
   "name": "python3"
  },
  "language_info": {
   "codemirror_mode": {
    "name": "ipython",
    "version": 3
   },
   "file_extension": ".py",
   "mimetype": "text/x-python",
   "name": "python",
   "nbconvert_exporter": "python",
   "pygments_lexer": "ipython3",
   "version": "3.9.12"
  }
 },
 "nbformat": 4,
 "nbformat_minor": 5
}
