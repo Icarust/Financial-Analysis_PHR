{
 "cells": [
  {
   "cell_type": "code",
   "execution_count": 1,
   "id": "4da79c70",
   "metadata": {},
   "outputs": [],
   "source": [
    "import pandas as pd\n",
    "def read_data(ticker):\n",
    "    df = pd.read_csv(ticker, thousands=\",\")    #thousand thay the bang dau \",\"\n",
    "    \n",
    "    # Đổi tên các Columns\n",
    "    df.columns = ['Date','Close','Open','High','Low','Volume','%Change']\n",
    "\n",
    "    # Loại bỏ (Drop) cột \"%Change\"\n",
    "    df.drop('%Change', axis=1, inplace=True)\n",
    "\n",
    "    # Quy ước Index là Columns \"Date\"\n",
    "    df = df.set_index(\"Date\")\n",
    "\n",
    "    # Format lại Date\n",
    "    df.index = pd.to_datetime(df.index)\n",
    "\n",
    "    # Sắp xếp (Sort) Date từ quá khứ đến hiện tại (Oldest to Newest)\n",
    "    df.sort_values(by=\"Date\",ascending=True,inplace=True)\n",
    "\n",
    "    return df"
   ]
  },
  {
   "cell_type": "code",
   "execution_count": null,
   "id": "4d59d0e8",
   "metadata": {},
   "outputs": [],
   "source": []
  }
 ],
 "metadata": {
  "kernelspec": {
   "display_name": "Python 3 (ipykernel)",
   "language": "python",
   "name": "python3"
  },
  "language_info": {
   "codemirror_mode": {
    "name": "ipython",
    "version": 3
   },
   "file_extension": ".py",
   "mimetype": "text/x-python",
   "name": "python",
   "nbconvert_exporter": "python",
   "pygments_lexer": "ipython3",
   "version": "3.9.12"
  }
 },
 "nbformat": 4,
 "nbformat_minor": 5
}
